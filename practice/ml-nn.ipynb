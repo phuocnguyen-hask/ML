{
 "cells": [
  {
   "cell_type": "code",
   "execution_count": 1,
   "id": "d93cec9e",
   "metadata": {},
   "outputs": [
    {
     "name": "stdout",
     "output_type": "stream",
     "text": [
      "2.10.1\n",
      "2.10.0\n"
     ]
    }
   ],
   "source": [
    "import tensorflow as tf\n",
    "from tensorflow import keras\n",
    "print(tf.__version__)\n",
    "print(keras.__version__)"
   ]
  },
  {
   "cell_type": "code",
   "execution_count": 2,
   "id": "7cc27c26",
   "metadata": {},
   "outputs": [
    {
     "data": {
      "text/plain": [
       "[PhysicalDevice(name='/physical_device:GPU:0', device_type='GPU')]"
      ]
     },
     "execution_count": 2,
     "metadata": {},
     "output_type": "execute_result"
    }
   ],
   "source": [
    "tf.config.list_physical_devices('GPU')"
   ]
  },
  {
   "cell_type": "code",
   "execution_count": 3,
   "id": "2a785787",
   "metadata": {},
   "outputs": [],
   "source": [
    "#fashion mnist\n",
    "fashion_mnist = keras.datasets.fashion_mnist\n",
    "(X_train_full, y_train_full), (X_test, y_test) = fashion_mnist.load_data()"
   ]
  },
  {
   "cell_type": "code",
   "execution_count": 4,
   "id": "4f21d8b9",
   "metadata": {},
   "outputs": [],
   "source": [
    "X_valid, X_train = X_train_full[:5000] / 255.0, X_train_full[5000:] / 255.0\n",
    "y_valid, y_train = y_train_full[:5000], y_train_full[5000:]"
   ]
  },
  {
   "cell_type": "code",
   "execution_count": 5,
   "id": "f0c0eca3",
   "metadata": {},
   "outputs": [],
   "source": [
    "model = keras.Sequential([keras.layers.Flatten(input_shape=[28, 28]),\n",
    "                          keras.layers.Dense(300, activation='relu'),\n",
    "                          keras.layers.Dense(100, activation='relu'),\n",
    "                          keras.layers.Dense(10, activation='softmax')])"
   ]
  },
  {
   "cell_type": "code",
   "execution_count": 6,
   "id": "4a9cd1d1",
   "metadata": {},
   "outputs": [
    {
     "name": "stdout",
     "output_type": "stream",
     "text": [
      "Model: \"sequential\"\n",
      "_________________________________________________________________\n",
      " Layer (type)                Output Shape              Param #   \n",
      "=================================================================\n",
      " flatten (Flatten)           (None, 784)               0         \n",
      "                                                                 \n",
      " dense (Dense)               (None, 300)               235500    \n",
      "                                                                 \n",
      " dense_1 (Dense)             (None, 100)               30100     \n",
      "                                                                 \n",
      " dense_2 (Dense)             (None, 10)                1010      \n",
      "                                                                 \n",
      "=================================================================\n",
      "Total params: 266,610\n",
      "Trainable params: 266,610\n",
      "Non-trainable params: 0\n",
      "_________________________________________________________________\n"
     ]
    }
   ],
   "source": [
    "# summarize NN\n",
    "model.summary()"
   ]
  },
  {
   "cell_type": "code",
   "execution_count": 7,
   "id": "f825cacc",
   "metadata": {},
   "outputs": [
    {
     "data": {
      "text/plain": [
       "[<keras.layers.reshaping.flatten.Flatten at 0x1e6be19b760>,\n",
       " <keras.layers.core.dense.Dense at 0x1e6875713d0>,\n",
       " <keras.layers.core.dense.Dense at 0x1e687571670>,\n",
       " <keras.layers.core.dense.Dense at 0x1e687571850>]"
      ]
     },
     "execution_count": 7,
     "metadata": {},
     "output_type": "execute_result"
    }
   ],
   "source": [
    "# get layers\n",
    "model.layers"
   ]
  },
  {
   "cell_type": "code",
   "execution_count": 8,
   "id": "2f9e9fae",
   "metadata": {},
   "outputs": [
    {
     "data": {
      "text/plain": [
       "'dense'"
      ]
     },
     "execution_count": 8,
     "metadata": {},
     "output_type": "execute_result"
    }
   ],
   "source": [
    "hidden1 = model.layers[1]\n",
    "hidden1.name"
   ]
  },
  {
   "cell_type": "code",
   "execution_count": 9,
   "id": "9fd0235f",
   "metadata": {},
   "outputs": [
    {
     "data": {
      "text/plain": [
       "True"
      ]
     },
     "execution_count": 9,
     "metadata": {},
     "output_type": "execute_result"
    }
   ],
   "source": [
    "model.get_layer('dense') is hidden1"
   ]
  },
  {
   "cell_type": "code",
   "execution_count": 10,
   "id": "c5cd9adf",
   "metadata": {},
   "outputs": [
    {
     "name": "stdout",
     "output_type": "stream",
     "text": [
      "[[-0.05559432  0.01138882 -0.03279619 ... -0.07360753 -0.07379715\n",
      "  -0.03551815]\n",
      " [ 0.00547179 -0.02963923  0.02468852 ... -0.0699512   0.02959558\n",
      "  -0.05636083]\n",
      " [-0.05857983 -0.07011451 -0.06170375 ... -0.05495803  0.05304281\n",
      "  -0.01870771]\n",
      " ...\n",
      " [ 0.05384728  0.04856554 -0.00360242 ... -0.05024771 -0.06913153\n",
      "   0.01205105]\n",
      " [-0.05967417  0.03669558 -0.05562736 ...  0.03956118  0.01679319\n",
      "   0.07100287]\n",
      " [-0.06741107 -0.05025945 -0.05393945 ...  0.01023094 -0.04931925\n",
      "   0.05971317]]\n",
      "weight shape: (784, 300)\n",
      "[0. 0. 0. 0. 0. 0. 0. 0. 0. 0. 0. 0. 0. 0. 0. 0. 0. 0. 0. 0. 0. 0. 0. 0.\n",
      " 0. 0. 0. 0. 0. 0. 0. 0. 0. 0. 0. 0. 0. 0. 0. 0. 0. 0. 0. 0. 0. 0. 0. 0.\n",
      " 0. 0. 0. 0. 0. 0. 0. 0. 0. 0. 0. 0. 0. 0. 0. 0. 0. 0. 0. 0. 0. 0. 0. 0.\n",
      " 0. 0. 0. 0. 0. 0. 0. 0. 0. 0. 0. 0. 0. 0. 0. 0. 0. 0. 0. 0. 0. 0. 0. 0.\n",
      " 0. 0. 0. 0. 0. 0. 0. 0. 0. 0. 0. 0. 0. 0. 0. 0. 0. 0. 0. 0. 0. 0. 0. 0.\n",
      " 0. 0. 0. 0. 0. 0. 0. 0. 0. 0. 0. 0. 0. 0. 0. 0. 0. 0. 0. 0. 0. 0. 0. 0.\n",
      " 0. 0. 0. 0. 0. 0. 0. 0. 0. 0. 0. 0. 0. 0. 0. 0. 0. 0. 0. 0. 0. 0. 0. 0.\n",
      " 0. 0. 0. 0. 0. 0. 0. 0. 0. 0. 0. 0. 0. 0. 0. 0. 0. 0. 0. 0. 0. 0. 0. 0.\n",
      " 0. 0. 0. 0. 0. 0. 0. 0. 0. 0. 0. 0. 0. 0. 0. 0. 0. 0. 0. 0. 0. 0. 0. 0.\n",
      " 0. 0. 0. 0. 0. 0. 0. 0. 0. 0. 0. 0. 0. 0. 0. 0. 0. 0. 0. 0. 0. 0. 0. 0.\n",
      " 0. 0. 0. 0. 0. 0. 0. 0. 0. 0. 0. 0. 0. 0. 0. 0. 0. 0. 0. 0. 0. 0. 0. 0.\n",
      " 0. 0. 0. 0. 0. 0. 0. 0. 0. 0. 0. 0. 0. 0. 0. 0. 0. 0. 0. 0. 0. 0. 0. 0.\n",
      " 0. 0. 0. 0. 0. 0. 0. 0. 0. 0. 0. 0.]\n",
      "bias shape: (300,)\n"
     ]
    }
   ],
   "source": [
    "#get weights and bias\n",
    "weights, bias = hidden1.get_weights()\n",
    "print(weights)\n",
    "print(f'weight shape: {weights.shape}')\n",
    "print(bias)\n",
    "print(f'bias shape: {bias.shape}')"
   ]
  },
  {
   "cell_type": "code",
   "execution_count": 11,
   "id": "7ac8f259",
   "metadata": {},
   "outputs": [],
   "source": [
    "#compling the model\n",
    "model.compile(loss='sparse_categorical_crossentropy',\n",
    "              optimizer='sgd',\n",
    "              metrics='accuracy')"
   ]
  },
  {
   "cell_type": "code",
   "execution_count": 12,
   "id": "6a2b9dd5",
   "metadata": {},
   "outputs": [
    {
     "name": "stdout",
     "output_type": "stream",
     "text": [
      "Epoch 1/30\n",
      "1719/1719 [==============================] - 7s 3ms/step - loss: 0.7196 - accuracy: 0.7676 - val_loss: 0.5191 - val_accuracy: 0.8308\n",
      "Epoch 2/30\n",
      "1719/1719 [==============================] - 5s 3ms/step - loss: 0.4912 - accuracy: 0.8284 - val_loss: 0.4636 - val_accuracy: 0.8414\n",
      "Epoch 3/30\n",
      "1719/1719 [==============================] - 6s 3ms/step - loss: 0.4464 - accuracy: 0.8433 - val_loss: 0.4413 - val_accuracy: 0.8512\n",
      "Epoch 4/30\n",
      "1719/1719 [==============================] - 7s 4ms/step - loss: 0.4208 - accuracy: 0.8523 - val_loss: 0.4042 - val_accuracy: 0.8630\n",
      "Epoch 5/30\n",
      "1719/1719 [==============================] - 6s 3ms/step - loss: 0.4009 - accuracy: 0.8596 - val_loss: 0.3843 - val_accuracy: 0.8732\n",
      "Epoch 6/30\n",
      "1719/1719 [==============================] - 6s 3ms/step - loss: 0.3833 - accuracy: 0.8653 - val_loss: 0.3670 - val_accuracy: 0.8752\n",
      "Epoch 7/30\n",
      "1719/1719 [==============================] - 5s 3ms/step - loss: 0.3704 - accuracy: 0.8698 - val_loss: 0.3631 - val_accuracy: 0.8742\n",
      "Epoch 8/30\n",
      "1719/1719 [==============================] - 5s 3ms/step - loss: 0.3591 - accuracy: 0.8733 - val_loss: 0.3665 - val_accuracy: 0.8670\n",
      "Epoch 9/30\n",
      "1719/1719 [==============================] - 6s 3ms/step - loss: 0.3476 - accuracy: 0.8759 - val_loss: 0.3587 - val_accuracy: 0.8742\n",
      "Epoch 10/30\n",
      "1719/1719 [==============================] - 6s 3ms/step - loss: 0.3368 - accuracy: 0.8803 - val_loss: 0.3394 - val_accuracy: 0.8838\n",
      "Epoch 11/30\n",
      "1719/1719 [==============================] - 5s 3ms/step - loss: 0.3289 - accuracy: 0.8829 - val_loss: 0.3354 - val_accuracy: 0.8806\n",
      "Epoch 12/30\n",
      "1719/1719 [==============================] - 5s 3ms/step - loss: 0.3214 - accuracy: 0.8854 - val_loss: 0.3323 - val_accuracy: 0.8810\n",
      "Epoch 13/30\n",
      "1719/1719 [==============================] - 5s 3ms/step - loss: 0.3136 - accuracy: 0.8878 - val_loss: 0.3242 - val_accuracy: 0.8858\n",
      "Epoch 14/30\n",
      "1719/1719 [==============================] - 5s 3ms/step - loss: 0.3065 - accuracy: 0.8900 - val_loss: 0.3261 - val_accuracy: 0.8850\n",
      "Epoch 15/30\n",
      "1719/1719 [==============================] - 5s 3ms/step - loss: 0.3001 - accuracy: 0.8924 - val_loss: 0.3244 - val_accuracy: 0.8868\n",
      "Epoch 16/30\n",
      "1719/1719 [==============================] - 5s 3ms/step - loss: 0.2929 - accuracy: 0.8941 - val_loss: 0.3161 - val_accuracy: 0.8908\n",
      "Epoch 17/30\n",
      "1719/1719 [==============================] - 5s 3ms/step - loss: 0.2879 - accuracy: 0.8964 - val_loss: 0.3108 - val_accuracy: 0.8902\n",
      "Epoch 18/30\n",
      "1719/1719 [==============================] - 5s 3ms/step - loss: 0.2813 - accuracy: 0.8990 - val_loss: 0.3188 - val_accuracy: 0.8856\n",
      "Epoch 19/30\n",
      "1719/1719 [==============================] - 6s 3ms/step - loss: 0.2768 - accuracy: 0.9004 - val_loss: 0.3402 - val_accuracy: 0.8768\n",
      "Epoch 20/30\n",
      "1719/1719 [==============================] - 6s 3ms/step - loss: 0.2716 - accuracy: 0.9025 - val_loss: 0.3039 - val_accuracy: 0.8918\n",
      "Epoch 21/30\n",
      "1719/1719 [==============================] - 6s 3ms/step - loss: 0.2665 - accuracy: 0.9046 - val_loss: 0.3057 - val_accuracy: 0.8880\n",
      "Epoch 22/30\n",
      "1719/1719 [==============================] - 6s 3ms/step - loss: 0.2617 - accuracy: 0.9053 - val_loss: 0.2991 - val_accuracy: 0.8930\n",
      "Epoch 23/30\n",
      "1719/1719 [==============================] - 6s 4ms/step - loss: 0.2568 - accuracy: 0.9082 - val_loss: 0.2990 - val_accuracy: 0.8964\n",
      "Epoch 24/30\n",
      "1719/1719 [==============================] - 6s 4ms/step - loss: 0.2522 - accuracy: 0.9084 - val_loss: 0.2974 - val_accuracy: 0.8916\n",
      "Epoch 25/30\n",
      "1719/1719 [==============================] - 6s 3ms/step - loss: 0.2480 - accuracy: 0.9118 - val_loss: 0.3028 - val_accuracy: 0.8906\n",
      "Epoch 26/30\n",
      "1719/1719 [==============================] - 6s 3ms/step - loss: 0.2429 - accuracy: 0.9132 - val_loss: 0.2939 - val_accuracy: 0.8936\n",
      "Epoch 27/30\n",
      "1719/1719 [==============================] - 6s 3ms/step - loss: 0.2405 - accuracy: 0.9140 - val_loss: 0.2941 - val_accuracy: 0.8932\n",
      "Epoch 28/30\n",
      "1719/1719 [==============================] - 6s 3ms/step - loss: 0.2352 - accuracy: 0.9153 - val_loss: 0.3023 - val_accuracy: 0.8908\n",
      "Epoch 29/30\n",
      "1719/1719 [==============================] - 6s 3ms/step - loss: 0.2315 - accuracy: 0.9174 - val_loss: 0.2941 - val_accuracy: 0.8916\n",
      "Epoch 30/30\n",
      "1719/1719 [==============================] - 6s 3ms/step - loss: 0.2271 - accuracy: 0.9199 - val_loss: 0.3028 - val_accuracy: 0.8926\n"
     ]
    }
   ],
   "source": [
    "#training model\n",
    "history = model.fit(X_train, y_train, epochs=30, validation_data=(X_valid, y_valid))"
   ]
  },
  {
   "cell_type": "code",
   "execution_count": 13,
   "id": "9d427d17",
   "metadata": {},
   "outputs": [
    {
     "data": {
      "image/png": "[encoded data removed]",
      "text/plain": [
       "<Figure size 800x500 with 1 Axes>"
      ]
     },
     "metadata": {},
     "output_type": "display_data"
    }
   ],
   "source": [
    "#fit() return a History object that contains training parameters, history.history dictionary containg loss\n",
    "# and extra metrics it measured\n",
    "import pandas as pd\n",
    "import matplotlib.pyplot as plt\n",
    "pd.DataFrame(history.history).plot(figsize=(8,5))\n",
    "plt.grid(True)\n",
    "plt.gca().set_ylim(0,1)\n",
    "plt.show()"
   ]
  },
  {
   "cell_type": "code",
   "execution_count": 14,
   "id": "9a7e143c",
   "metadata": {},
   "outputs": [
    {
     "data": {
      "image/png": "[encoded data removed]",
      "text/plain": [
       "<Figure size 640x480 with 1 Axes>"
      ]
     },
     "metadata": {},
     "output_type": "display_data"
    }
   ],
   "source": [
    "loss_series = pd.Series(history.history['loss'])\n",
    "plt.plot(loss_series, color = 'green')\n",
    "plt.grid(True)\n",
    "plt.xlabel('epochs')\n",
    "plt.ylabel('loss')\n",
    "plt.gcf().set_facecolor('gray')\n",
    "plt.gca().set_facecolor('gray')\n",
    "plt.show()"
   ]
  },
  {
   "cell_type": "code",
   "execution_count": 15,
   "id": "2412e9dd",
   "metadata": {},
   "outputs": [
    {
     "name": "stdout",
     "output_type": "stream",
     "text": [
      "313/313 [==============================] - 1s 3ms/step - loss: 58.8266 - accuracy: 0.8568\n"
     ]
    },
    {
     "data": {
      "text/plain": [
       "[58.82658004760742, 0.8568000197410583]"
      ]
     },
     "execution_count": 15,
     "metadata": {},
     "output_type": "execute_result"
    }
   ],
   "source": [
    "model.evaluate(X_test, y_test)"
   ]
  },
  {
   "cell_type": "code",
   "execution_count": 16,
   "id": "5fc8a237",
   "metadata": {},
   "outputs": [
    {
     "name": "stdout",
     "output_type": "stream",
     "text": [
      "1/1 [==============================] - 0s 85ms/step\n",
      "[[0. 0. 0. 0. 0. 0. 0. 0. 0. 1.]\n",
      " [0. 0. 1. 0. 0. 0. 0. 0. 0. 0.]\n",
      " [0. 1. 0. 0. 0. 0. 0. 0. 0. 0.]]\n"
     ]
    }
   ],
   "source": [
    "X_new = X_test[:3]\n",
    "y_proba = model.predict(X_new)\n",
    "print(y_proba.round(2))"
   ]
  },
  {
   "cell_type": "code",
   "execution_count": 17,
   "id": "f1202f8f",
   "metadata": {},
   "outputs": [],
   "source": [
    "###BUILDING a REGRESSION MLP using the Sequential API\n",
    "from sklearn.datasets import fetch_california_housing\n",
    "from sklearn.model_selection import train_test_split\n",
    "from sklearn.preprocessing import StandardScaler\n",
    "\n",
    "housing = fetch_california_housing()\n",
    "X_train_full, X_test, y_train_full, y_test = train_test_split(housing.data, housing.target)\n",
    "X_train, X_valid, y_train, y_valid =  train_test_split(X_train_full, y_train_full)\n",
    "scaler = StandardScaler()\n",
    "X_train = scaler.fit_transform(X_train)\n",
    "X_valid = scaler.transform(X_valid)\n",
    "X_test = scaler.transform(X_test)"
   ]
  },
  {
   "cell_type": "code",
   "execution_count": 18,
   "id": "c661bf73",
   "metadata": {},
   "outputs": [
    {
     "name": "stdout",
     "output_type": "stream",
     "text": [
      "Epoch 1/20\n",
      "363/363 [==============================] - 2s 4ms/step - loss: 1.6403 - val_loss: 0.8142\n",
      "Epoch 2/20\n",
      "363/363 [==============================] - 1s 3ms/step - loss: 1.1033 - val_loss: 1.5785\n",
      "Epoch 3/20\n",
      "363/363 [==============================] - 1s 3ms/step - loss: 0.9468 - val_loss: 0.5321\n",
      "Epoch 4/20\n",
      "363/363 [==============================] - 1s 3ms/step - loss: 0.4945 - val_loss: 0.4513\n",
      "Epoch 5/20\n",
      "363/363 [==============================] - 1s 3ms/step - loss: 0.4501 - val_loss: 0.4177\n",
      "Epoch 6/20\n",
      "363/363 [==============================] - 1s 3ms/step - loss: 0.4315 - val_loss: 0.4081\n",
      "Epoch 7/20\n",
      "363/363 [==============================] - 1s 3ms/step - loss: 0.4181 - val_loss: 0.4176\n",
      "Epoch 8/20\n",
      "363/363 [==============================] - 1s 3ms/step - loss: 0.4170 - val_loss: 0.3947\n",
      "Epoch 9/20\n",
      "363/363 [==============================] - 1s 4ms/step - loss: 0.4062 - val_loss: 0.3842\n",
      "Epoch 10/20\n",
      "363/363 [==============================] - 1s 3ms/step - loss: 0.3965 - val_loss: 0.3729\n",
      "Epoch 11/20\n",
      "363/363 [==============================] - 1s 3ms/step - loss: 0.3890 - val_loss: 0.3907\n",
      "Epoch 12/20\n",
      "363/363 [==============================] - 1s 3ms/step - loss: 0.3845 - val_loss: 0.3624\n",
      "Epoch 13/20\n",
      "363/363 [==============================] - 1s 3ms/step - loss: 0.3786 - val_loss: 0.3582\n",
      "Epoch 14/20\n",
      "363/363 [==============================] - 1s 3ms/step - loss: 0.3772 - val_loss: 0.3562\n",
      "Epoch 15/20\n",
      "363/363 [==============================] - 1s 3ms/step - loss: 0.3732 - val_loss: 0.3500\n",
      "Epoch 16/20\n",
      "363/363 [==============================] - 1s 3ms/step - loss: 0.3681 - val_loss: 0.3604\n",
      "Epoch 17/20\n",
      "363/363 [==============================] - 1s 3ms/step - loss: 0.3667 - val_loss: 0.3479\n",
      "Epoch 18/20\n",
      "363/363 [==============================] - 1s 3ms/step - loss: 0.3636 - val_loss: 0.3479\n",
      "Epoch 19/20\n",
      "363/363 [==============================] - 1s 3ms/step - loss: 0.3620 - val_loss: 0.3413\n",
      "Epoch 20/20\n",
      "363/363 [==============================] - 1s 3ms/step - loss: 0.3576 - val_loss: 0.3399\n"
     ]
    }
   ],
   "source": [
    "#build MLP for regression\n",
    "model = keras.models.Sequential([keras.layers.Dense(30, activation='relu', input_shape = X_train.shape[1:]),\n",
    "                                 keras.layers.Dense(1)])\n",
    "model.compile(loss='mean_squared_error', optimizer='sgd')\n",
    "history = model.fit(X_train, y_train, epochs=20, validation_data=(X_valid, y_valid))"
   ]
  },
  {
   "cell_type": "code",
   "execution_count": 19,
   "id": "44f6e194",
   "metadata": {},
   "outputs": [
    {
     "name": "stdout",
     "output_type": "stream",
     "text": [
      "162/162 [==============================] - 0s 2ms/step - loss: 0.3585\n",
      "1/1 [==============================] - 0s 33ms/step\n"
     ]
    }
   ],
   "source": [
    "mse_test = model.evaluate(X_test, y_test)\n",
    "X_new = X_test[:3]\n",
    "y_pred = model.predict(X_new)"
   ]
  },
  {
   "cell_type": "code",
   "execution_count": 20,
   "id": "7963cdf3",
   "metadata": {},
   "outputs": [
    {
     "data": {
      "image/png": "[encoded data removed]",
      "text/plain": [
       "<Figure size 640x480 with 1 Axes>"
      ]
     },
     "metadata": {},
     "output_type": "display_data"
    }
   ],
   "source": [
    "plt.plot(history.history['loss'])\n",
    "plt.xlabel('epoch')\n",
    "plt.ylabel('loss')\n",
    "plt.grid(True)\n",
    "plt.gcf().set_facecolor('gray')\n",
    "plt.gca().set_facecolor('gray')\n",
    "plt.show()"
   ]
  },
  {
   "cell_type": "code",
   "execution_count": 21,
   "id": "7906d998",
   "metadata": {},
   "outputs": [],
   "source": [
    "# Deep and wide neural network\n",
    "input_ = keras.layers.Input(shape=X_train.shape[1:])\n",
    "hidden1 = keras.layers.Dense(30, activation='relu')(input_)\n",
    "hidden2 = keras.layers.Dense(30, activation='relu')(hidden1)\n",
    "concat = keras.layers.Concatenate()([input_, hidden2])\n",
    "output = keras.layers.Dense(1)(concat)\n",
    "model = keras.Model(inputs=[input_], outputs=[output])"
   ]
  },
  {
   "cell_type": "code",
   "execution_count": 22,
   "id": "bbea071d",
   "metadata": {},
   "outputs": [],
   "source": [
    "# send 5 features go through wide path, and 6 features through deep path\n",
    "input_A = keras.layers.Input(shape=[5], name=\"wide_input\")\n",
    "input_B = keras.layers.Input(shape=[6], name=\"deep_input\")\n",
    "hidden1 = keras.layers.Dense(30, activation=\"relu\")(input_B)\n",
    "hidden2 = keras.layers.Dense(30, activation=\"relu\")(hidden1)\n",
    "concat = keras.layers.concatenate([input_A, hidden2])\n",
    "output = keras.layers.Dense(1, name=\"output\")(concat)\n",
    "model = keras.Model(inputs=[input_A, input_B], outputs=[output])"
   ]
  },
  {
   "cell_type": "code",
   "execution_count": 23,
   "id": "88f9da11",
   "metadata": {},
   "outputs": [
    {
     "name": "stdout",
     "output_type": "stream",
     "text": [
      "Epoch 1/20\n"
     ]
    },
    {
     "name": "stderr",
     "output_type": "stream",
     "text": [
      "c:\\Users\\BRUH\\anaconda3\\envs\\myenv\\lib\\site-packages\\keras\\optimizers\\optimizer_v2\\gradient_descent.py:111: UserWarning: The `lr` argument is deprecated, use `learning_rate` instead.\n",
      "  super().__init__(name, **kwargs)\n"
     ]
    },
    {
     "name": "stdout",
     "output_type": "stream",
     "text": [
      "363/363 [==============================] - 2s 4ms/step - loss: 2.0706 - val_loss: 0.8223\n",
      "Epoch 2/20\n",
      "363/363 [==============================] - 1s 3ms/step - loss: 0.7392 - val_loss: 0.6499\n",
      "Epoch 3/20\n",
      "363/363 [==============================] - 1s 3ms/step - loss: 0.6433 - val_loss: 0.5966\n",
      "Epoch 4/20\n",
      "363/363 [==============================] - 1s 4ms/step - loss: 0.6050 - val_loss: 0.5671\n",
      "Epoch 5/20\n",
      "363/363 [==============================] - 1s 4ms/step - loss: 0.5802 - val_loss: 0.5473\n",
      "Epoch 6/20\n",
      "363/363 [==============================] - 1s 4ms/step - loss: 0.5617 - val_loss: 0.5305\n",
      "Epoch 7/20\n",
      "363/363 [==============================] - 1s 4ms/step - loss: 0.5468 - val_loss: 0.5195\n",
      "Epoch 8/20\n",
      "363/363 [==============================] - 1s 4ms/step - loss: 0.5352 - val_loss: 0.5091\n",
      "Epoch 9/20\n",
      "363/363 [==============================] - 1s 3ms/step - loss: 0.5254 - val_loss: 0.5015\n",
      "Epoch 10/20\n",
      "363/363 [==============================] - 1s 3ms/step - loss: 0.5176 - val_loss: 0.4946\n",
      "Epoch 11/20\n",
      "363/363 [==============================] - 1s 3ms/step - loss: 0.5110 - val_loss: 0.4900\n",
      "Epoch 12/20\n",
      "363/363 [==============================] - 1s 4ms/step - loss: 0.5053 - val_loss: 0.4857\n",
      "Epoch 13/20\n",
      "363/363 [==============================] - 1s 4ms/step - loss: 0.5003 - val_loss: 0.4806\n",
      "Epoch 14/20\n",
      "363/363 [==============================] - 2s 4ms/step - loss: 0.4957 - val_loss: 0.4766\n",
      "Epoch 15/20\n",
      "363/363 [==============================] - 1s 4ms/step - loss: 0.4911 - val_loss: 0.4722\n",
      "Epoch 16/20\n",
      "363/363 [==============================] - 1s 4ms/step - loss: 0.4865 - val_loss: 0.4687\n",
      "Epoch 17/20\n",
      "363/363 [==============================] - 1s 4ms/step - loss: 0.4820 - val_loss: 0.4657\n",
      "Epoch 18/20\n",
      "363/363 [==============================] - 1s 4ms/step - loss: 0.4786 - val_loss: 0.4629\n",
      "Epoch 19/20\n",
      "363/363 [==============================] - 1s 4ms/step - loss: 0.4757 - val_loss: 0.4605\n",
      "Epoch 20/20\n",
      "363/363 [==============================] - 1s 4ms/step - loss: 0.4734 - val_loss: 0.4580\n",
      "162/162 [==============================] - 0s 2ms/step - loss: 0.4622\n",
      "1/1 [==============================] - 0s 50ms/step\n"
     ]
    }
   ],
   "source": [
    "model.compile(loss='mse', optimizer=keras.optimizers.SGD(lr=1e-3))\n",
    "X_train_A, X_train_B = X_train[:, :5], X_train[:, 2:]\n",
    "X_valid_A, X_valid_B = X_valid[:, :5], X_valid[:, 2:]\n",
    "X_test_A, X_test_B = X_test[:, :5], X_test[:, 2:]\n",
    "X_new_A, X_new_B = X_test_A[:3], X_test_B[:3]\n",
    "history = model.fit((X_train_A, X_train_B), y_train, epochs=20,\n",
    "validation_data=((X_valid_A, X_valid_B), y_valid))\n",
    "mse_test = model.evaluate((X_test_A, X_test_B), y_test)\n",
    "y_pred = model.predict((X_new_A, X_new_B))"
   ]
  },
  {
   "cell_type": "code",
   "execution_count": 24,
   "id": "2049fe24",
   "metadata": {},
   "outputs": [
    {
     "data": {
      "image/png": "[encoded data removed]",
      "text/plain": [
       "<Figure size 640x480 with 1 Axes>"
      ]
     },
     "metadata": {},
     "output_type": "display_data"
    }
   ],
   "source": [
    "plt.plot(history.history['loss'])\n",
    "plt.xlabel('epoch')\n",
    "plt.ylabel('loss')\n",
    "plt.gcf().set_facecolor('gray')\n",
    "plt.gca().set_facecolor('gray')\n",
    "plt.show()"
   ]
  },
  {
   "cell_type": "code",
   "execution_count": 31,
   "id": "115da0b4",
   "metadata": {},
   "outputs": [],
   "source": [
    "output =  keras.layers.Dense(1, name='main_output')(concat)\n",
    "aux_output = keras.layers.Dense(1, name='aux_output')(hidden2)\n",
    "model = keras.Model(inputs=[input_A, input_B], outputs=[output, aux_output])\n"
   ]
  },
  {
   "cell_type": "code",
   "execution_count": 32,
   "id": "76fef849",
   "metadata": {},
   "outputs": [],
   "source": [
    "#compling model\n",
    "model.compile(loss=['mse', 'mse'], loss_weights=[0.9, 0.1], optimizer='sgd')"
   ]
  },
  {
   "cell_type": "code",
   "execution_count": 33,
   "id": "beed8b91",
   "metadata": {},
   "outputs": [
    {
     "name": "stdout",
     "output_type": "stream",
     "text": [
      "Epoch 1/20\n",
      "363/363 [==============================] - 3s 6ms/step - loss: 0.9076 - main_output_loss: 0.7939 - aux_output_loss: 1.9307 - val_loss: 0.5441 - val_main_output_loss: 0.4676 - val_aux_output_loss: 1.2326\n",
      "Epoch 2/20\n",
      "363/363 [==============================] - 2s 5ms/step - loss: 0.7182 - main_output_loss: 0.6681 - aux_output_loss: 1.1696 - val_loss: 0.5803 - val_main_output_loss: 0.5344 - val_aux_output_loss: 0.9937\n",
      "Epoch 3/20\n",
      "363/363 [==============================] - 2s 6ms/step - loss: 0.7058 - main_output_loss: 0.6781 - aux_output_loss: 0.9551 - val_loss: 0.6172 - val_main_output_loss: 0.5810 - val_aux_output_loss: 0.9431\n",
      "Epoch 4/20\n",
      "363/363 [==============================] - 2s 5ms/step - loss: 0.4949 - main_output_loss: 0.4570 - aux_output_loss: 0.8368 - val_loss: 0.4560 - val_main_output_loss: 0.4209 - val_aux_output_loss: 0.7713\n",
      "Epoch 5/20\n",
      "363/363 [==============================] - 2s 5ms/step - loss: 0.4768 - main_output_loss: 0.4466 - aux_output_loss: 0.7485 - val_loss: 0.4422 - val_main_output_loss: 0.4132 - val_aux_output_loss: 0.7038\n",
      "Epoch 6/20\n",
      "363/363 [==============================] - 2s 5ms/step - loss: 0.4533 - main_output_loss: 0.4271 - aux_output_loss: 0.6895 - val_loss: 0.4297 - val_main_output_loss: 0.4031 - val_aux_output_loss: 0.6691\n",
      "Epoch 7/20\n",
      "363/363 [==============================] - 2s 5ms/step - loss: 0.4407 - main_output_loss: 0.4170 - aux_output_loss: 0.6533 - val_loss: 0.4136 - val_main_output_loss: 0.3896 - val_aux_output_loss: 0.6299\n",
      "Epoch 8/20\n",
      "363/363 [==============================] - 2s 5ms/step - loss: 0.4339 - main_output_loss: 0.4126 - aux_output_loss: 0.6258 - val_loss: 0.4028 - val_main_output_loss: 0.3800 - val_aux_output_loss: 0.6080\n",
      "Epoch 9/20\n",
      "363/363 [==============================] - 2s 5ms/step - loss: 0.4222 - main_output_loss: 0.4020 - aux_output_loss: 0.6035 - val_loss: 0.3978 - val_main_output_loss: 0.3760 - val_aux_output_loss: 0.5939\n",
      "Epoch 10/20\n",
      "363/363 [==============================] - 2s 5ms/step - loss: 0.4134 - main_output_loss: 0.3939 - aux_output_loss: 0.5886 - val_loss: 0.3997 - val_main_output_loss: 0.3793 - val_aux_output_loss: 0.5834\n",
      "Epoch 11/20\n",
      "363/363 [==============================] - 2s 5ms/step - loss: 0.4048 - main_output_loss: 0.3862 - aux_output_loss: 0.5726 - val_loss: 0.3789 - val_main_output_loss: 0.3586 - val_aux_output_loss: 0.5616\n",
      "Epoch 12/20\n",
      "363/363 [==============================] - 2s 5ms/step - loss: 0.3993 - main_output_loss: 0.3812 - aux_output_loss: 0.5621 - val_loss: 0.3762 - val_main_output_loss: 0.3568 - val_aux_output_loss: 0.5512\n",
      "Epoch 13/20\n",
      "363/363 [==============================] - 2s 5ms/step - loss: 0.3926 - main_output_loss: 0.3750 - aux_output_loss: 0.5507 - val_loss: 0.3736 - val_main_output_loss: 0.3546 - val_aux_output_loss: 0.5441\n",
      "Epoch 14/20\n",
      "363/363 [==============================] - 2s 5ms/step - loss: 0.3904 - main_output_loss: 0.3735 - aux_output_loss: 0.5425 - val_loss: 0.3646 - val_main_output_loss: 0.3457 - val_aux_output_loss: 0.5346\n",
      "Epoch 15/20\n",
      "363/363 [==============================] - 2s 6ms/step - loss: 0.3843 - main_output_loss: 0.3677 - aux_output_loss: 0.5337 - val_loss: 0.3607 - val_main_output_loss: 0.3424 - val_aux_output_loss: 0.5250\n",
      "Epoch 16/20\n",
      "363/363 [==============================] - 2s 6ms/step - loss: 0.3772 - main_output_loss: 0.3608 - aux_output_loss: 0.5248 - val_loss: 0.3575 - val_main_output_loss: 0.3395 - val_aux_output_loss: 0.5193\n",
      "Epoch 17/20\n",
      "363/363 [==============================] - 2s 6ms/step - loss: 0.3728 - main_output_loss: 0.3567 - aux_output_loss: 0.5175 - val_loss: 0.3475 - val_main_output_loss: 0.3300 - val_aux_output_loss: 0.5051\n",
      "Epoch 18/20\n",
      "363/363 [==============================] - 2s 6ms/step - loss: 0.3718 - main_output_loss: 0.3561 - aux_output_loss: 0.5130 - val_loss: 0.3602 - val_main_output_loss: 0.3437 - val_aux_output_loss: 0.5095\n",
      "Epoch 19/20\n",
      "363/363 [==============================] - 2s 6ms/step - loss: 0.3706 - main_output_loss: 0.3553 - aux_output_loss: 0.5089 - val_loss: 0.3406 - val_main_output_loss: 0.3238 - val_aux_output_loss: 0.4914\n",
      "Epoch 20/20\n",
      "363/363 [==============================] - 2s 6ms/step - loss: 0.3668 - main_output_loss: 0.3519 - aux_output_loss: 0.5008 - val_loss: 0.3409 - val_main_output_loss: 0.3246 - val_aux_output_loss: 0.4877\n"
     ]
    }
   ],
   "source": [
    "history = model.fit([X_train_A, X_train_B], [y_train, y_train], epochs=20, validation_data=([X_valid_A, X_valid_B], [y_valid, y_valid]))"
   ]
  },
  {
   "cell_type": "code",
   "execution_count": 40,
   "id": "a9777242",
   "metadata": {},
   "outputs": [],
   "source": [
    "# Subclass API\n",
    "class WideAndDeepNN(keras.Model):\n",
    "    def __init__(self, units=30, activation=\"relu\", **kwargs):\n",
    "        super().__init__(**kwargs) # handles standard args (e.g., name)\n",
    "        self.hidden1 = keras.layers.Dense(units, activation=activation)\n",
    "        self.hidden2 = keras.layers.Dense(units, activation=activation)\n",
    "        self.main_output = keras.layers.Dense(1)\n",
    "        self.aux_output = keras.layers.Dense(1)\n",
    "    def call(self, inputs):\n",
    "        input_A, input_B = inputs\n",
    "        hidden1 = self.hidden1(input_B)\n",
    "        hidden2 = self.hidden2(hidden1)\n",
    "        concat = keras.layers.concatenate([input_A, hidden2])\n",
    "        main_output = self.main_output(concat)\n",
    "        aux_output = self.aux_output(hidden2)\n",
    "        return main_output, aux_output\n",
    "model = WideAndDeepNN()\n",
    "\n"
   ]
  },
  {
   "cell_type": "code",
   "execution_count": 42,
   "id": "17446744",
   "metadata": {},
   "outputs": [
    {
     "name": "stdout",
     "output_type": "stream",
     "text": [
      "Epoch 1/10\n",
      "363/363 [==============================] - ETA: 0s - loss: 0.4295 - output_1_loss: 0.4104 - output_2_loss: 0.6016\n",
      "Epoch 1: saving model to checkpoints\n",
      "363/363 [==============================] - 3s 6ms/step - loss: 0.4295 - output_1_loss: 0.4104 - output_2_loss: 0.6016 - val_loss: 0.3976 - val_output_1_loss: 0.3759 - val_output_2_loss: 0.5930\n",
      "Epoch 2/10\n",
      "357/363 [============================>.] - ETA: 0s - loss: 0.4171 - output_1_loss: 0.3984 - output_2_loss: 0.5858\n",
      "Epoch 2: saving model to checkpoints\n",
      "363/363 [==============================] - 2s 6ms/step - loss: 0.4157 - output_1_loss: 0.3967 - output_2_loss: 0.5861 - val_loss: 0.3915 - val_output_1_loss: 0.3708 - val_output_2_loss: 0.5771\n",
      "Epoch 3/10\n",
      "362/363 [============================>.] - ETA: 0s - loss: 0.4088 - output_1_loss: 0.3908 - output_2_loss: 0.5707\n",
      "Epoch 3: saving model to checkpoints\n",
      "363/363 [==============================] - 2s 6ms/step - loss: 0.4086 - output_1_loss: 0.3906 - output_2_loss: 0.5707 - val_loss: 0.3873 - val_output_1_loss: 0.3672 - val_output_2_loss: 0.5676\n",
      "Epoch 4/10\n",
      "358/363 [============================>.] - ETA: 0s - loss: 0.4115 - output_1_loss: 0.3949 - output_2_loss: 0.5611\n",
      "Epoch 4: saving model to checkpoints\n",
      "363/363 [==============================] - 2s 6ms/step - loss: 0.4116 - output_1_loss: 0.3949 - output_2_loss: 0.5619 - val_loss: 0.3766 - val_output_1_loss: 0.3570 - val_output_2_loss: 0.5530\n",
      "Epoch 5/10\n",
      "361/363 [============================>.] - ETA: 0s - loss: 0.3973 - output_1_loss: 0.3806 - output_2_loss: 0.5480\n",
      "Epoch 5: saving model to checkpoints\n",
      "363/363 [==============================] - 2s 6ms/step - loss: 0.3977 - output_1_loss: 0.3810 - output_2_loss: 0.5478 - val_loss: 0.3695 - val_output_1_loss: 0.3506 - val_output_2_loss: 0.5400\n",
      "Epoch 6/10\n",
      "363/363 [==============================] - ETA: 0s - loss: 0.3980 - output_1_loss: 0.3822 - output_2_loss: 0.5407\n",
      "Epoch 6: saving model to checkpoints\n",
      "363/363 [==============================] - 2s 5ms/step - loss: 0.3980 - output_1_loss: 0.3822 - output_2_loss: 0.5407 - val_loss: 0.3663 - val_output_1_loss: 0.3479 - val_output_2_loss: 0.5324\n",
      "Epoch 7/10\n",
      "357/363 [============================>.] - ETA: 0s - loss: 0.3872 - output_1_loss: 0.3712 - output_2_loss: 0.5315\n",
      "Epoch 7: saving model to checkpoints\n",
      "363/363 [==============================] - 2s 5ms/step - loss: 0.3868 - output_1_loss: 0.3707 - output_2_loss: 0.5310 - val_loss: 0.3692 - val_output_1_loss: 0.3516 - val_output_2_loss: 0.5271\n",
      "Epoch 8/10\n",
      "356/363 [============================>.] - ETA: 0s - loss: 0.3838 - output_1_loss: 0.3681 - output_2_loss: 0.5251\n",
      "Epoch 8: saving model to checkpoints\n",
      "363/363 [==============================] - 2s 5ms/step - loss: 0.3848 - output_1_loss: 0.3692 - output_2_loss: 0.5249 - val_loss: 0.3668 - val_output_1_loss: 0.3495 - val_output_2_loss: 0.5232\n",
      "Epoch 9/10\n",
      "353/363 [============================>.] - ETA: 0s - loss: 0.3830 - output_1_loss: 0.3678 - output_2_loss: 0.5195\n",
      "Epoch 9: saving model to checkpoints\n",
      "363/363 [==============================] - 2s 5ms/step - loss: 0.3821 - output_1_loss: 0.3670 - output_2_loss: 0.5178 - val_loss: 0.3508 - val_output_1_loss: 0.3335 - val_output_2_loss: 0.5060\n",
      "Epoch 10/10\n",
      "363/363 [==============================] - ETA: 0s - loss: 0.3756 - output_1_loss: 0.3607 - output_2_loss: 0.5093\n",
      "Epoch 10: saving model to checkpoints\n",
      "363/363 [==============================] - 2s 5ms/step - loss: 0.3756 - output_1_loss: 0.3607 - output_2_loss: 0.5093 - val_loss: 0.3505 - val_output_1_loss: 0.3338 - val_output_2_loss: 0.5007\n"
     ]
    },
    {
     "data": {
      "text/plain": [
       "<keras.callbacks.History at 0x1e6cfc086a0>"
      ]
     },
     "execution_count": 42,
     "metadata": {},
     "output_type": "execute_result"
    }
   ],
   "source": [
    "\n",
    "cp_callback = tf.keras.callbacks.ModelCheckpoint(filepath='checkpoints', save_weights_only=True, verbose=1)\n",
    "model.compile(loss=['mse', 'mse'], loss_weights=[0.9, 0.1], optimizer='sgd', )\n",
    "model.fit([X_train_A, X_train_B], [y_train, y_train], epochs=10, validation_data=([X_valid_A, X_valid_B], [y_valid, y_valid]),\n",
    "          callbacks=[cp_callback])"
   ]
  },
  {
   "cell_type": "code",
   "execution_count": 43,
   "id": "0414c173",
   "metadata": {},
   "outputs": [
    {
     "data": {
      "text/plain": [
       "<tensorflow.python.checkpoint.checkpoint.CheckpointLoadStatus at 0x1e6d0d602e0>"
      ]
     },
     "execution_count": 43,
     "metadata": {},
     "output_type": "execute_result"
    }
   ],
   "source": [
    "#restoring model\n",
    "cmodel = WideAndDeepNN()\n",
    "model.load_weights('checkpoints')"
   ]
  },
  {
   "cell_type": "code",
   "execution_count": 44,
   "id": "c5c60e31",
   "metadata": {},
   "outputs": [
    {
     "name": "stdout",
     "output_type": "stream",
     "text": [
      "162/162 [==============================] - 1s 4ms/step - loss: 0.3811 - output_1_loss: 0.3662 - output_2_loss: 0.5146\n"
     ]
    },
    {
     "data": {
      "text/plain": [
       "[0.38106420636177063, 0.36622610688209534, 0.5146054029464722]"
      ]
     },
     "execution_count": 44,
     "metadata": {},
     "output_type": "execute_result"
    }
   ],
   "source": [
    "model.evaluate([X_test_A, X_test_B], [y_test, y_test])"
   ]
  },
  {
   "cell_type": "code",
   "execution_count": 45,
   "id": "b3b27768",
   "metadata": {},
   "outputs": [],
   "source": [
    "import os \n",
    "root_logdir = os.path.join(os.curdir, 'my_logs')\n",
    "\n",
    "def get_run_logdir():\n",
    "    import time\n",
    "    run_id = time.strftime(\"run_%Y_%m_%d-%H_%M_%S\")\n",
    "    return os.path.join(root_logdir, run_id)\n",
    "run_logdir = get_run_logdir()"
   ]
  },
  {
   "cell_type": "code",
   "execution_count": 51,
   "id": "dff9dcec",
   "metadata": {},
   "outputs": [],
   "source": [
    "#fashion mnist\n",
    "fashion_mnist = keras.datasets.fashion_mnist\n",
    "(X_train_full, y_train_full), (X_test, y_test) = fashion_mnist.load_data()\n",
    "X_valid, X_train = X_train_full[:5000] / 255.0, X_train_full[5000:] / 255.0\n",
    "y_valid, y_train = y_train_full[:5000], y_train_full[5000:]"
   ]
  },
  {
   "cell_type": "code",
   "execution_count": 52,
   "id": "4c7acd23",
   "metadata": {},
   "outputs": [
    {
     "name": "stdout",
     "output_type": "stream",
     "text": [
      "(5000, 28, 28)\n",
      "(55000, 28, 28)\n"
     ]
    }
   ],
   "source": [
    "print(X_valid.shape)\n",
    "print(X_train.shape)"
   ]
  },
  {
   "cell_type": "code",
   "execution_count": 53,
   "id": "e0eb7600",
   "metadata": {},
   "outputs": [
    {
     "name": "stdout",
     "output_type": "stream",
     "text": [
      "Epoch 1/10\n",
      "1719/1719 [==============================] - 6s 3ms/step - loss: 0.7181 - accuracy: 0.7653 - val_loss: 0.5115 - val_accuracy: 0.8308\n",
      "Epoch 2/10\n",
      "1719/1719 [==============================] - 5s 3ms/step - loss: 0.4868 - accuracy: 0.8296 - val_loss: 0.4962 - val_accuracy: 0.8252\n",
      "Epoch 3/10\n",
      "1719/1719 [==============================] - 5s 3ms/step - loss: 0.4403 - accuracy: 0.8459 - val_loss: 0.4157 - val_accuracy: 0.8584\n",
      "Epoch 4/10\n",
      "1719/1719 [==============================] - 5s 3ms/step - loss: 0.4147 - accuracy: 0.8552 - val_loss: 0.3912 - val_accuracy: 0.8662\n",
      "Epoch 5/10\n",
      "1719/1719 [==============================] - 5s 3ms/step - loss: 0.3942 - accuracy: 0.8622 - val_loss: 0.3887 - val_accuracy: 0.8678\n",
      "Epoch 6/10\n",
      "1719/1719 [==============================] - 5s 3ms/step - loss: 0.3776 - accuracy: 0.8670 - val_loss: 0.3712 - val_accuracy: 0.8714\n",
      "Epoch 7/10\n",
      "1719/1719 [==============================] - 5s 3ms/step - loss: 0.3653 - accuracy: 0.8716 - val_loss: 0.3642 - val_accuracy: 0.8724\n",
      "Epoch 8/10\n",
      "1719/1719 [==============================] - 5s 3ms/step - loss: 0.3517 - accuracy: 0.8756 - val_loss: 0.3531 - val_accuracy: 0.8764\n",
      "Epoch 9/10\n",
      "1719/1719 [==============================] - 5s 3ms/step - loss: 0.3419 - accuracy: 0.8783 - val_loss: 0.3500 - val_accuracy: 0.8766\n",
      "Epoch 10/10\n",
      "1719/1719 [==============================] - 5s 3ms/step - loss: 0.3328 - accuracy: 0.8822 - val_loss: 0.3509 - val_accuracy: 0.8734\n"
     ]
    }
   ],
   "source": [
    "model = keras.Sequential([keras.layers.Flatten(input_shape=[28, 28]),\n",
    "                          keras.layers.Dense(400, activation='relu'),\n",
    "                          keras.layers.Dense(400, activation='relu'),\n",
    "                          keras.layers.Dense(10, activation='softmax')])\n",
    "\n",
    "#compile model\n",
    "model.compile(loss=keras.losses.sparse_categorical_crossentropy, optimizer='sgd', metrics=['accuracy'])\n",
    "tensorboard_cb = tf.keras.callbacks.TensorBoard(run_logdir)\n",
    "history = model.fit(X_train, y_train, epochs=10, validation_data=(X_valid, y_valid), callbacks=[tensorboard_cb])"
   ]
  },
  {
   "cell_type": "code",
   "execution_count": null,
   "id": "0efef503",
   "metadata": {},
   "outputs": [],
   "source": []
  }
 ],
 "metadata": {
  "kernelspec": {
   "display_name": "myenv",
   "language": "python",
   "name": "python3"
  },
  "language_info": {
   "codemirror_mode": {
    "name": "ipython",
    "version": 3
   },
   "file_extension": ".py",
   "mimetype": "text/x-python",
   "name": "python",
   "nbconvert_exporter": "python",
   "pygments_lexer": "ipython3",
   "version": "3.9.23"
  }
 },
 "nbformat": 4,
 "nbformat_minor": 5
}
