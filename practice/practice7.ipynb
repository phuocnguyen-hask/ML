{
 "cells": [
  {
   "cell_type": "code",
   "execution_count": null,
   "id": "618eea83-ef27-4b01-b499-9d9df8fee3d3",
   "metadata": {},
   "outputs": [],
   "source": [
    "from sklearn.datasets import load_iris\n",
    "from sklearn.ensemble import RandomForestClassifier\n",
    "from sklearn.ensemble import VotingClassifier\n",
    "from sklearn.svm import SVC\n",
    "from sklearn.linear_model import LogisticRegression\n",
    "from sklearn.model_selection import train_test_split\n",
    "data = load_iris()\n",
    "X = data['data'][:, [2, 3]]\n",
    "y = data['target']\n",
    "X_train, X_test, y_train, y_test = train_test_split(X, y, test_size = 0.2, stratify = y)\n",
    "log_clf = LogisticRegression()\n",
    "rnd_clf = RandomForestClassifier()\n",
    "svc = SVC()\n",
    "voting_clf = VotingClassifier(estimators = [('lr', log_clf),\n",
    "                                            ('rd', rnd_clf),\n",
    "                                            ('svc', svc)],\n",
    "                              voting = 'hard')\n",
    "voting_clf.fit(X_train, y_train)"
   ]
  },
  {
   "cell_type": "code",
   "execution_count": null,
   "id": "5ceb58d0-98ea-44ea-8317-970fe2e1133f",
   "metadata": {},
   "outputs": [],
   "source": [
    "from sklearn.metrics import accuracy_score\n",
    "for clf in (log_clf, rnd_clf, svc, voting_clf):\n",
    "    clf.fit(X_train, y_train)\n",
    "    y_pred = clf.predict(X_test)\n",
    "    print(clf.__class__.__name__, accuracy_score(y_pred, y_test))"
   ]
  },
  {
   "cell_type": "code",
   "execution_count": null,
   "id": "d4194652-bcb1-4284-a319-fa552d1b854f",
   "metadata": {},
   "outputs": [],
   "source": [
    "#bagging\n",
    "from sklearn.ensemble import BaggingClassifier\n",
    "from sklearn.tree import DecisionTreeClassifier\n",
    "bag_clf = BaggingClassifier(DecisionTreeClassifier(), n_estimators = 500,\n",
    "                            max_samples = 100, bootstrap = True, n_jobs = 2) "
   ]
  },
  {
   "cell_type": "code",
   "execution_count": null,
   "id": "6f25946d-7462-4f41-82a4-55a542574f54",
   "metadata": {},
   "outputs": [],
   "source": [
    "bag_clf.fit(X_train ,y_train)\n",
    "print(bag_clf.score(X_test, y_test))"
   ]
  },
  {
   "cell_type": "code",
   "execution_count": null,
   "id": "34ffa7b2-a0dd-41ec-933a-e9f0fa519373",
   "metadata": {},
   "outputs": [],
   "source": [
    "from mlxtend.plotting import plot_decision_regions\n",
    "import matplotlib.pyplot as plt \n",
    "plot_decision_regions(X_train, y_train, clf = bag_clf, legend = 2)\n",
    "plt.xlabel('petal length')\n",
    "plt.ylabel('petal width')\n",
    "plt.legend()\n",
    "plt.show()"
   ]
  },
  {
   "cell_type": "code",
   "execution_count": null,
   "id": "9f54b7ba-beff-46ad-82fb-58242f1f9084",
   "metadata": {},
   "outputs": [],
   "source": [
    "from sklearn.datasets import make_moons\n",
    "from sklearn.model_selection import train_test_split\n",
    "X, y = make_moons(n_samples = 300, noise = 0.1)\n",
    "X_train, X_test, y_train, y_test = train_test_split(X, y, test_size = .2, stratify = y)\n",
    "bag_clf.fit(X_train, y_train)\n",
    "plot_decision_regions(X_train, y_train, clf = bag_clf, legend = 2)\n",
    "plt.xlabel('x')\n",
    "plt.ylabel('y')\n",
    "plt.legend()\n",
    "plt.show()\n",
    "print(bag_clf.score(X_test, y_test))"
   ]
  },
  {
   "cell_type": "code",
   "execution_count": null,
   "id": "845f8e64-103a-486c-8d6f-effffe507e2d",
   "metadata": {},
   "outputs": [],
   "source": [
    "oob_bag_clf = BaggingClassifier(DecisionTreeClassifier(), n_estimators = 500,\n",
    "                                max_samples = 100, n_jobs = 2, bootstrap = True, oob_score = True)"
   ]
  },
  {
   "cell_type": "code",
   "execution_count": null,
   "id": "763303a0-8402-4d6f-b75d-806f8c9d6711",
   "metadata": {},
   "outputs": [],
   "source": [
    "oob_bag_clf.fit(X_train, y_train)\n",
    "print(oob_bag_clf.oob_score_)\n",
    "print(oob_bag_clf.score(X_test, y_test))"
   ]
  },
  {
   "cell_type": "code",
   "execution_count": null,
   "id": "f0404299-8b13-4c56-ae31-b3795ca8ddef",
   "metadata": {},
   "outputs": [],
   "source": [
    "from sklearn.ensemble import RandomForestClassifier\n",
    "\n",
    "rnd_clf = RandomForestClassifier(n_estimators=500, max_depth = 4, max_leaf_nodes = 16, n_jobs = 2)\n",
    "rnd_clf.fit(X_train, y_train)\n",
    "\n",
    "plot_decision_regions(X_train, y_train, clf = rnd_clf, legend = 2)\n",
    "plt.xlabel('x')\n",
    "plt.ylabel('y')\n",
    "plt.legend()\n",
    "plt.show()\n"
   ]
  },
  {
   "cell_type": "code",
   "execution_count": null,
   "id": "6ca297dc-b108-4464-8a87-7833b5cc645b",
   "metadata": {},
   "outputs": [],
   "source": [
    "#Adaboost\n",
    "from sklearn.ensemble import AdaBoostClassifier\n",
    "ada_clf = AdaBoostClassifier(\n",
    "    DecisionTreeClassifier(max_depth = 1), n_estimators = 500, learning_rate = .5, )\n",
    "ada_clf.fit(X_train, y_train)"
   ]
  },
  {
   "cell_type": "code",
   "execution_count": null,
   "id": "94685031-6dfc-4a89-a8ba-2b50ec38e341",
   "metadata": {},
   "outputs": [],
   "source": [
    "plot_decision_regions(X_train, y_train, clf = ada_clf, legend = 2)\n",
    "plt.xlabel('x')\n",
    "plt.ylabel('y')\n",
    "plt.legend()\n",
    "plt.show()"
   ]
  },
  {
   "cell_type": "code",
   "execution_count": null,
   "id": "b853776e-44b2-4471-82eb-fca3d24d2407",
   "metadata": {},
   "outputs": [],
   "source": [
    "#Gradient boosting\n",
    "import numpy as np\n",
    "from sklearn.ensemble import GradientBoostingRegressor\n",
    "X = np.random.rand(100, 1) * 4 - 3\n",
    "y = (X ** 2 + 1.2 * X + 2 + np.random.standard_normal(100).reshape(-1, 1)).reshape(-1,)\n",
    "plt.scatter(X, y)\n",
    "plt.xlabel('x')\n",
    "plt.ylabel('y')\n",
    "plt.show()"
   ]
  },
  {
   "cell_type": "code",
   "execution_count": null,
   "id": "9739776b-49f7-4b68-a40d-122e877c1da4",
   "metadata": {},
   "outputs": [],
   "source": [
    "gbrt = GradientBoostingRegressor(max_depth = 2, n_estimators = 3, learning_rate = 1.0)\n",
    "gbrt.fit(X, y)\n",
    "x_draw = np.linspace(-3, 2, 100).reshape(-1, 1)\n",
    "y_draw_pred = gbrt.predict(x_draw)\n",
    "plt.scatter(X, y, label = 'data')\n",
    "plt.plot(x_draw, y_draw_pred, color = 'red', label = 'gradient boost line')\n",
    "plt.xlabel('x')\n",
    "plt.ylabel('y')\n",
    "plt.legend()\n",
    "plt.show()"
   ]
  },
  {
   "cell_type": "code",
   "execution_count": null,
   "id": "2ab9a39f-d5d6-4858-a115-e51d5b74c774",
   "metadata": {},
   "outputs": [],
   "source": []
  }
 ],
 "metadata": {
  "kernelspec": {
   "display_name": "Python 3 (ipykernel)",
   "language": "python",
   "name": "python3"
  },
  "language_info": {
   "codemirror_mode": {
    "name": "ipython",
    "version": 3
   },
   "file_extension": ".py",
   "mimetype": "text/x-python",
   "name": "python",
   "nbconvert_exporter": "python",
   "pygments_lexer": "ipython3",
   "version": "3.13.5"
  }
 },
 "nbformat": 4,
 "nbformat_minor": 5
}
